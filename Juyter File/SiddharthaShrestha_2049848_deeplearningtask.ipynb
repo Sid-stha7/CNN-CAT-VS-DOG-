{
  "cells": [
    {
      "cell_type": "markdown",
      "metadata": {
        "id": "Gcj0N-JPH4pf"
      },
      "source": [
        "## Creating CNN Using Scratch And Transfer Learning"
      ]
    },
    {
      "cell_type": "code",
      "source": [
        "from google.colab import drive\n",
        "drive.mount('/content/drive')"
      ],
      "metadata": {
        "colab": {
          "base_uri": "https://localhost:8080/"
        },
        "id": "ZewTw4FQIdKS",
        "outputId": "ec73094a-9f6a-4ba3-d64a-a85ffb08abfd"
      },
      "execution_count": null,
      "outputs": [
        {
          "output_type": "stream",
          "name": "stdout",
          "text": [
            "Mounted at /content/drive\n"
          ]
        }
      ]
    },
    {
      "cell_type": "code",
      "source": [
        "cd /content/drive/MyDrive/Dog_Cat_Classification"
      ],
      "metadata": {
        "colab": {
          "base_uri": "https://localhost:8080/"
        },
        "id": "0jQMVdwTJSMi",
        "outputId": "937d633a-b0db-465f-af5d-b7a5ba372cfc"
      },
      "execution_count": null,
      "outputs": [
        {
          "output_type": "stream",
          "name": "stdout",
          "text": [
            "/content/drive/MyDrive/Dog_Cat_Classification\n"
          ]
        }
      ]
    },
    {
      "cell_type": "code",
      "source": [
        "ls"
      ],
      "metadata": {
        "colab": {
          "base_uri": "https://localhost:8080/"
        },
        "id": "QMwXyrC7ahKy",
        "outputId": "dc1c28b0-010f-4ca1-a71f-4c569f276d63"
      },
      "execution_count": null,
      "outputs": [
        {
          "output_type": "stream",
          "name": "stdout",
          "text": [
            "AccVal_acc.png                 \u001b[0m\u001b[01;34mDataset\u001b[0m/          jpt.h5            \u001b[01;34m__pycache__\u001b[0m/\n",
            "CatAndDogClassification.ipynb  DogsVsCats.ipynb  jpt.ipynb         setting.py\n",
            "CatVsDog.h5                    DogVsCat.ipynb    LossVal_loss.png  try.ipynb\n"
          ]
        }
      ]
    },
    {
      "cell_type": "code",
      "execution_count": null,
      "metadata": {
        "id": "fsXeqCcJH4pm"
      },
      "outputs": [],
      "source": [
        "#importing necessary libraries\n",
        "import pandas as pd\n",
        "import numpy as np\n",
        "import matplotlib.pyplot as plt\n",
        "import tensorflow as tf\n",
        "from tensorflow.keras import layers\n",
        "from tensorflow.keras.layers import Input, Lambda, Dense, Flatten,Conv2D\n",
        "from tensorflow.keras.models import Model\n",
        "from tensorflow.keras.applications.resnet50 import preprocess_input\n",
        "from tensorflow.keras.preprocessing import image\n",
        "from tensorflow.keras.preprocessing.image import ImageDataGenerator,load_img\n",
        "from tensorflow.keras.models import Sequential\n",
        "\n",
        "\n",
        "import setting as cfg"
      ]
    },
    {
      "cell_type": "code",
      "execution_count": null,
      "metadata": {
        "id": "kMx6doWIH4pq"
      },
      "outputs": [],
      "source": [
        "#setting an image size to be used for the model\n",
        "IMAGE_SIZE = [224, 224]\n",
        "\n",
        "train_path = cfg.TrainDir\n",
        "test_path = cfg.TestingDir\n"
      ]
    },
    {
      "cell_type": "code",
      "execution_count": null,
      "metadata": {
        "id": "QusmZYSrH4p2"
      },
      "outputs": [],
      "source": [
        "from tensorflow.keras.layers import MaxPooling2D"
      ]
    },
    {
      "cell_type": "code",
      "execution_count": null,
      "metadata": {
        "colab": {
          "base_uri": "https://localhost:8080/"
        },
        "id": "ZwHL46MGH4p4",
        "outputId": "6fd634b3-aa9d-44fd-dac9-7b50310b060e"
      },
      "outputs": [
        {
          "output_type": "stream",
          "name": "stdout",
          "text": [
            "Model: \"sequential\"\n",
            "_________________________________________________________________\n",
            " Layer (type)                Output Shape              Param #   \n",
            "=================================================================\n",
            " conv2d (Conv2D)             (None, 224, 224, 16)      208       \n",
            "                                                                 \n",
            " max_pooling2d (MaxPooling2D  (None, 112, 112, 16)     0         \n",
            " )                                                               \n",
            "                                                                 \n",
            " conv2d_1 (Conv2D)           (None, 112, 112, 32)      2080      \n",
            "                                                                 \n",
            " max_pooling2d_1 (MaxPooling  (None, 56, 56, 32)       0         \n",
            " 2D)                                                             \n",
            "                                                                 \n",
            " conv2d_2 (Conv2D)           (None, 56, 56, 64)        8256      \n",
            "                                                                 \n",
            " max_pooling2d_2 (MaxPooling  (None, 28, 28, 64)       0         \n",
            " 2D)                                                             \n",
            "                                                                 \n",
            " flatten (Flatten)           (None, 50176)             0         \n",
            "                                                                 \n",
            " dense (Dense)               (None, 500)               25088500  \n",
            "                                                                 \n",
            " dense_1 (Dense)             (None, 2)                 1002      \n",
            "                                                                 \n",
            "=================================================================\n",
            "Total params: 25,100,046\n",
            "Trainable params: 25,100,046\n",
            "Non-trainable params: 0\n",
            "_________________________________________________________________\n"
          ]
        }
      ],
      "source": [
        "###CNN model creation\n",
        "model=Sequential()\n",
        "model.add(Conv2D(filters=16,kernel_size=2,padding=\"same\",activation=\"relu\",input_shape=(224,224,3)))\n",
        "model.add(MaxPooling2D(pool_size=2))\n",
        "model.add(Conv2D(filters=32,kernel_size=2,padding=\"same\",activation =\"relu\"))\n",
        "model.add(MaxPooling2D(pool_size=2))\n",
        "model.add(Conv2D(filters=64,kernel_size=2,padding=\"same\",activation=\"relu\"))\n",
        "model.add(MaxPooling2D(pool_size=2))\n",
        "model.add(Flatten())\n",
        "model.add(Dense(500,activation=\"relu\"))\n",
        "model.add(Dense(2,activation=\"softmax\"))\n",
        "model.summary()"
      ]
    },
    {
      "cell_type": "code",
      "execution_count": null,
      "metadata": {
        "id": "_RNPHDQMH4p6"
      },
      "outputs": [],
      "source": [
        "model.compile(\n",
        "  loss='categorical_crossentropy',\n",
        "  optimizer='adam',\n",
        "  metrics=['accuracy']\n",
        ")\n"
      ]
    },
    {
      "cell_type": "code",
      "execution_count": null,
      "metadata": {
        "id": "kgEv0EzZH4p7"
      },
      "outputs": [],
      "source": [
        "from tensorflow.keras.preprocessing.image import ImageDataGenerator\n",
        "\n",
        "train_datagen = ImageDataGenerator(rescale = 1./255,\n",
        "                                   shear_range = 0.2,\n",
        "                                   zoom_range = 0.2,\n",
        "                                   horizontal_flip = True)\n",
        "\n",
        "test_datagen = ImageDataGenerator(rescale = 1./255)"
      ]
    },
    {
      "cell_type": "code",
      "execution_count": null,
      "metadata": {
        "colab": {
          "base_uri": "https://localhost:8080/"
        },
        "id": "0WMeElDsH4p8",
        "outputId": "0003ac36-1fbb-4882-ca85-181a5dbb4a62"
      },
      "outputs": [
        {
          "output_type": "stream",
          "name": "stdout",
          "text": [
            "Found 8041 images belonging to 2 classes.\n"
          ]
        }
      ],
      "source": [
        "#training set\n",
        "training_set = train_datagen.flow_from_directory('/content/drive/MyDrive/Dog_Cat_Classification/Dataset/training_set',\n",
        "                                                 target_size = (224, 224),\n",
        "                                                 batch_size = 32,\n",
        "                                                 class_mode = 'categorical')"
      ]
    },
    {
      "cell_type": "code",
      "execution_count": null,
      "metadata": {
        "colab": {
          "base_uri": "https://localhost:8080/"
        },
        "id": "m5lpzFoEH4p-",
        "outputId": "7fadd49e-c7c0-4e6a-9cd7-272f1684e733"
      },
      "outputs": [
        {
          "output_type": "execute_result",
          "data": {
            "text/plain": [
              "<keras.preprocessing.image.DirectoryIterator at 0x7f053f314650>"
            ]
          },
          "metadata": {},
          "execution_count": 11
        }
      ],
      "source": [
        "training_set"
      ]
    },
    {
      "cell_type": "code",
      "execution_count": null,
      "metadata": {
        "colab": {
          "base_uri": "https://localhost:8080/"
        },
        "id": "5jhjqzrbH4p_",
        "outputId": "f52aad14-cfa1-4c3d-8b42-e47929214fed"
      },
      "outputs": [
        {
          "output_type": "stream",
          "name": "stdout",
          "text": [
            "Found 2023 images belonging to 2 classes.\n"
          ]
        }
      ],
      "source": [
        "#testing set\n",
        "test_set = test_datagen.flow_from_directory('/content/drive/MyDrive/Dog_Cat_Classification/Dataset/test_set',\n",
        "                                            target_size = (224, 224),\n",
        "                                            batch_size = 32,\n",
        "                                            class_mode = 'categorical')"
      ]
    },
    {
      "cell_type": "code",
      "source": [
        ""
      ],
      "metadata": {
        "id": "SQNK1AJE8YV3"
      },
      "execution_count": null,
      "outputs": []
    },
    {
      "cell_type": "code",
      "execution_count": null,
      "metadata": {
        "scrolled": true,
        "id": "Onf0R65pH4p_",
        "colab": {
          "base_uri": "https://localhost:8080/"
        },
        "outputId": "dde7d0fc-917f-4591-f7ce-154a61837996"
      },
      "outputs": [
        {
          "output_type": "stream",
          "name": "stderr",
          "text": [
            "/usr/local/lib/python3.7/dist-packages/ipykernel_launcher.py:6: UserWarning: `Model.fit_generator` is deprecated and will be removed in a future version. Please use `Model.fit`, which supports generators.\n",
            "  \n"
          ]
        },
        {
          "output_type": "stream",
          "name": "stdout",
          "text": [
            "Epoch 1/20\n",
            "252/252 [==============================] - 2755s 11s/step - loss: 0.7006 - accuracy: 0.6299 - val_loss: 0.5860 - val_accuracy: 0.6886\n",
            "Epoch 2/20\n",
            "252/252 [==============================] - 421s 2s/step - loss: 0.5447 - accuracy: 0.7214 - val_loss: 0.5380 - val_accuracy: 0.7355\n",
            "Epoch 3/20\n",
            "252/252 [==============================] - 425s 2s/step - loss: 0.5083 - accuracy: 0.7502 - val_loss: 0.4963 - val_accuracy: 0.7672\n",
            "Epoch 4/20\n",
            "252/252 [==============================] - 434s 2s/step - loss: 0.4784 - accuracy: 0.7663 - val_loss: 0.4777 - val_accuracy: 0.7746\n",
            "Epoch 5/20\n",
            "252/252 [==============================] - 425s 2s/step - loss: 0.4523 - accuracy: 0.7892 - val_loss: 0.5421 - val_accuracy: 0.7365\n",
            "Epoch 6/20\n",
            "252/252 [==============================] - 424s 2s/step - loss: 0.4300 - accuracy: 0.8050 - val_loss: 0.4716 - val_accuracy: 0.7835\n",
            "Epoch 7/20\n",
            "252/252 [==============================] - 425s 2s/step - loss: 0.4105 - accuracy: 0.8113 - val_loss: 0.4474 - val_accuracy: 0.7939\n",
            "Epoch 8/20\n",
            "252/252 [==============================] - 426s 2s/step - loss: 0.3902 - accuracy: 0.8199 - val_loss: 0.4311 - val_accuracy: 0.8112\n",
            "Epoch 9/20\n",
            "252/252 [==============================] - 425s 2s/step - loss: 0.3818 - accuracy: 0.8302 - val_loss: 0.4438 - val_accuracy: 0.8038\n",
            "Epoch 10/20\n",
            "252/252 [==============================] - 426s 2s/step - loss: 0.3555 - accuracy: 0.8426 - val_loss: 0.4681 - val_accuracy: 0.7909\n",
            "Epoch 11/20\n",
            "252/252 [==============================] - 424s 2s/step - loss: 0.3412 - accuracy: 0.8494 - val_loss: 0.4385 - val_accuracy: 0.8166\n",
            "Epoch 12/20\n",
            "252/252 [==============================] - 425s 2s/step - loss: 0.3123 - accuracy: 0.8607 - val_loss: 0.4925 - val_accuracy: 0.8013\n",
            "Epoch 13/20\n",
            "252/252 [==============================] - 424s 2s/step - loss: 0.2997 - accuracy: 0.8688 - val_loss: 0.4310 - val_accuracy: 0.8156\n",
            "Epoch 14/20\n",
            "252/252 [==============================] - 425s 2s/step - loss: 0.2879 - accuracy: 0.8749 - val_loss: 0.4474 - val_accuracy: 0.8166\n",
            "Epoch 15/20\n",
            "252/252 [==============================] - 424s 2s/step - loss: 0.2593 - accuracy: 0.8907 - val_loss: 0.4978 - val_accuracy: 0.7978\n",
            "Epoch 16/20\n",
            "252/252 [==============================] - 424s 2s/step - loss: 0.2512 - accuracy: 0.8943 - val_loss: 0.4767 - val_accuracy: 0.8206\n",
            "Epoch 17/20\n",
            "252/252 [==============================] - 424s 2s/step - loss: 0.2428 - accuracy: 0.9001 - val_loss: 0.4703 - val_accuracy: 0.8359\n",
            "Epoch 18/20\n",
            "252/252 [==============================] - 435s 2s/step - loss: 0.2137 - accuracy: 0.9138 - val_loss: 0.5186 - val_accuracy: 0.8087\n",
            "Epoch 19/20\n",
            "252/252 [==============================] - 425s 2s/step - loss: 0.2033 - accuracy: 0.9189 - val_loss: 0.5569 - val_accuracy: 0.8131\n",
            "Epoch 20/20\n",
            "252/252 [==============================] - 423s 2s/step - loss: 0.1938 - accuracy: 0.9236 - val_loss: 0.6326 - val_accuracy: 0.7988\n"
          ]
        }
      ],
      "source": [
        "#fitting and running the model\n",
        "r = model.fit_generator(\n",
        "  training_set,\n",
        "  validation_data=test_set,\n",
        "  epochs=20,\n",
        "  steps_per_epoch=len(training_set),\n",
        "  validation_steps=len(test_set)\n",
        ")"
      ]
    },
    {
      "cell_type": "code",
      "execution_count": null,
      "metadata": {
        "id": "K08t34M5H4qA"
      },
      "outputs": [],
      "source": [
        "#saving the recently run model\n",
        "model.save('CatVsDog.h5')"
      ]
    },
    {
      "cell_type": "code",
      "execution_count": null,
      "metadata": {
        "id": "l8D1G3shH4qC",
        "colab": {
          "base_uri": "https://localhost:8080/",
          "height": 531
        },
        "outputId": "f23a361d-c577-451b-c1f9-a77c8586ec28"
      },
      "outputs": [
        {
          "output_type": "display_data",
          "data": {
            "text/plain": [
              "<Figure size 432x288 with 1 Axes>"
            ],
            "image/png": "[encoded data removed]"
          },
          "metadata": {
            "needs_background": "light"
          }
        },
        {
          "output_type": "display_data",
          "data": {
            "text/plain": [
              "<Figure size 432x288 with 1 Axes>"
            ],
            "image/png": "[encoded data removed]"
          },
          "metadata": {
            "needs_background": "light"
          }
        },
        {
          "output_type": "display_data",
          "data": {
            "text/plain": [
              "<Figure size 432x288 with 0 Axes>"
            ]
          },
          "metadata": {}
        }
      ],
      "source": [
        "# ploting the loss\n",
        "plt.plot(r.history['loss'], label='train loss')\n",
        "plt.plot(r.history['val_loss'], label='val loss')\n",
        "plt.legend()\n",
        "plt.show()\n",
        "plt.savefig('LossVal_loss')\n",
        "\n",
        "# ploting the accuracy\n",
        "plt.plot(r.history['accuracy'], label='train acc')\n",
        "plt.plot(r.history['val_accuracy'], label='val acc')\n",
        "plt.legend()\n",
        "plt.show()\n",
        "plt.savefig('AccVal_acc')"
      ]
    },
    {
      "cell_type": "code",
      "source": [
        "from tensorflow.keras.models import load_model\n",
        "from tensorflow.keras.preprocessing import image\n",
        "\n",
        "model=load_model('CatVsDog.h5')"
      ],
      "metadata": {
        "id": "1e1jMhG13wbF"
      },
      "execution_count": null,
      "outputs": []
    },
    {
      "cell_type": "code",
      "source": [
        "results = model.evaluate(test_set, verbose=0)\n",
        "\n",
        "print(\"    Test Loss: {:.5f}\".format(results[0]))\n",
        "print(\"Test Accuracy: {:.2f}%\".format(results[1] * 100))"
      ],
      "metadata": {
        "colab": {
          "base_uri": "https://localhost:8080/"
        },
        "id": "86iXvTEI3wen",
        "outputId": "b12395b8-8d43-4f98-ad9c-381218922fcd"
      },
      "execution_count": null,
      "outputs": [
        {
          "output_type": "stream",
          "name": "stdout",
          "text": [
            "    Test Loss: 0.63258\n",
            "Test Accuracy: 79.88%\n"
          ]
        }
      ]
    },
    {
      "cell_type": "code",
      "execution_count": null,
      "metadata": {
        "id": "YZFkRoKDH4qC"
      },
      "outputs": [],
      "source": [
        "\n",
        "y_pred = model.predict(test_set)\n"
      ]
    },
    {
      "cell_type": "code",
      "execution_count": null,
      "metadata": {
        "id": "sFqjcreqH4qE",
        "colab": {
          "base_uri": "https://localhost:8080/"
        },
        "outputId": "b7209383-b7ba-4d73-c90c-52d77eb4e105"
      },
      "outputs": [
        {
          "output_type": "execute_result",
          "data": {
            "text/plain": [
              "array([[1.0188403e-08, 1.0000000e+00],\n",
              "       [9.4418281e-01, 5.5817198e-02],\n",
              "       [4.3476617e-04, 9.9956518e-01],\n",
              "       ...,\n",
              "       [7.0846285e-04, 9.9929154e-01],\n",
              "       [4.9132553e-01, 5.0867444e-01],\n",
              "       [2.1610286e-02, 9.7838974e-01]], dtype=float32)"
            ]
          },
          "metadata": {},
          "execution_count": 16
        }
      ],
      "source": [
        "y_pred"
      ]
    },
    {
      "cell_type": "code",
      "execution_count": null,
      "metadata": {
        "id": "J4aInk2gH4qE"
      },
      "outputs": [],
      "source": [
        "import numpy as np\n",
        "y_pred = np.argmax(y_pred, axis=1)"
      ]
    },
    {
      "cell_type": "code",
      "execution_count": null,
      "metadata": {
        "id": "_MmC51T8H4qE",
        "colab": {
          "base_uri": "https://localhost:8080/"
        },
        "outputId": "88a84e61-41bf-4851-95db-e080c5687cdc"
      },
      "outputs": [
        {
          "output_type": "execute_result",
          "data": {
            "text/plain": [
              "array([1, 0, 1, ..., 1, 1, 1])"
            ]
          },
          "metadata": {},
          "execution_count": 18
        }
      ],
      "source": [
        "y_pred"
      ]
    },
    {
      "cell_type": "code",
      "execution_count": null,
      "metadata": {
        "id": "Nfc-NMTzH4qH"
      },
      "outputs": [],
      "source": [
        "img=image.load_img('Dataset/Val/Cat/cat2.jpg',target_size=(224,224))\n",
        "\n"
      ]
    },
    {
      "cell_type": "code",
      "execution_count": null,
      "metadata": {
        "id": "GalaPvnzH4qH"
      },
      "outputs": [],
      "source": [
        "x=image.img_to_array(img)/255"
      ]
    },
    {
      "cell_type": "code",
      "source": [
        "input_arr = np.array([x])\n",
        "input_arr.shape"
      ],
      "metadata": {
        "colab": {
          "base_uri": "https://localhost:8080/"
        },
        "id": "UOrseV4pbOwR",
        "outputId": "2654da45-c96e-49fa-c890-3ff8b5559fe3"
      },
      "execution_count": null,
      "outputs": [
        {
          "output_type": "execute_result",
          "data": {
            "text/plain": [
              "(1, 224, 224, 3)"
            ]
          },
          "metadata": {},
          "execution_count": 21
        }
      ]
    },
    {
      "cell_type": "code",
      "source": [
        "img=image.load_img('Dataset/Val/Cat/cat2.jpg',target_size=(224,224))\n",
        "x=image.img_to_array(img)/255\n",
        "\n",
        "input_arr = np.array([x])\n",
        "input_arr.shape\n",
        "\n",
        "pred = np.argmax(model.predict(input_arr))\n",
        "\n",
        "if pred == 0:\n",
        "  print(\"Cat\")\n",
        "else:\n",
        "  print(\"Dog\")\n"
      ],
      "metadata": {
        "colab": {
          "base_uri": "https://localhost:8080/"
        },
        "id": "zQ9NmifnblHI",
        "outputId": "8ac50d01-5bf1-4438-bc60-47d3fd72adf9"
      },
      "execution_count": null,
      "outputs": [
        {
          "output_type": "stream",
          "name": "stdout",
          "text": [
            "Cat\n"
          ]
        }
      ]
    },
    {
      "cell_type": "code",
      "source": [
        "#inserting image and checking the result of model prediction\n",
        "img=image.load_img('Dataset/Val/Dog/dog2.jpg',target_size=(224,224))\n",
        "x=image.img_to_array(img)/255\n",
        "\n",
        "input_arr = np.array([x])\n",
        "input_arr.shape\n",
        "\n",
        "pred = np.argmax(model.predict(input_arr))\n",
        "\n",
        "if pred == 0:\n",
        "  print(\"Cat\")\n",
        "else:\n",
        "  print(\"Dog\")\n"
      ],
      "metadata": {
        "colab": {
          "base_uri": "https://localhost:8080/"
        },
        "id": "jocJeG7-41GJ",
        "outputId": "b2ae70e0-3263-4dca-940e-e6542b5628be"
      },
      "execution_count": null,
      "outputs": [
        {
          "output_type": "stream",
          "name": "stdout",
          "text": [
            "Dog\n"
          ]
        }
      ]
    },
    {
      "cell_type": "code",
      "source": [
        "#importing libraries for confusion matrix and classification report\n",
        "from sklearn.metrics import confusion_matrix, classification_report\n",
        "import seaborn as sns"
      ],
      "metadata": {
        "id": "x2PFZ2Wmgebd"
      },
      "execution_count": null,
      "outputs": []
    },
    {
      "cell_type": "code",
      "source": [
        "cm = confusion_matrix(test_set.labels, y_pred, labels=[0, 1])\n",
        "clr = classification_report(test_set.labels, y_pred, labels=[0, 1], target_names=[\"CAT\", \"DOG\"])\n",
        "plt.figure(figsize=(6, 6))\n",
        "sns.heatmap(cm, annot=True, fmt='g', vmin=0, cmap='Blues', cbar=False)\n",
        "plt.xticks(ticks=[0.5, 1.5], labels=[\"CAT\", \"DOG\"])\n",
        "plt.yticks(ticks=[0.5, 1.5], labels=[\"CAT\", \"DOG\"])\n",
        "plt.xlabel(\"Predicted\")\n",
        "plt.ylabel(\"Actual\")\n",
        "plt.title(\"Confusion Matrix\")\n",
        "plt.show()\n",
        "\n",
        "print(\"Classification Report:\\n----------------------\\n\", clr)"
      ],
      "metadata": {
        "id": "KJh-vlT2vsKO",
        "colab": {
          "base_uri": "https://localhost:8080/",
          "height": 604
        },
        "outputId": "9c422f16-7124-41c6-8983-1d229d69b668"
      },
      "execution_count": null,
      "outputs": [
        {
          "output_type": "display_data",
          "data": {
            "text/plain": [
              "<Figure size 432x432 with 1 Axes>"
            ],
            "image/png": "[encoded data removed]"
          },
          "metadata": {
            "needs_background": "light"
          }
        },
        {
          "output_type": "stream",
          "name": "stdout",
          "text": [
            "Classification Report:\n",
            "----------------------\n",
            "               precision    recall  f1-score   support\n",
            "\n",
            "         CAT       0.49      0.39      0.43      1011\n",
            "         DOG       0.49      0.59      0.54      1012\n",
            "\n",
            "    accuracy                           0.49      2023\n",
            "   macro avg       0.49      0.49      0.48      2023\n",
            "weighted avg       0.49      0.49      0.48      2023\n",
            "\n"
          ]
        }
      ]
    },
    {
      "cell_type": "code",
      "source": [
        "\n"
      ],
      "metadata": {
        "id": "xTkXs5tmmJEB"
      },
      "execution_count": null,
      "outputs": []
    }
  ],
  "metadata": {
    "kernelspec": {
      "display_name": "Python 3",
      "language": "python",
      "name": "python3"
    },
    "language_info": {
      "codemirror_mode": {
        "name": "ipython",
        "version": 3
      },
      "file_extension": ".py",
      "mimetype": "text/x-python",
      "name": "python",
      "nbconvert_exporter": "python",
      "pygments_lexer": "ipython3",
      "version": "3.7.4"
    },
    "colab": {
      "name": "DogsVsCats.ipynb",
      "provenance": [],
      "collapsed_sections": []
    },
    "accelerator": "GPU"
  },
  "nbformat": 4,
  "nbformat_minor": 0
}